{
 "cells": [
  {
   "cell_type": "markdown",
   "metadata": {},
   "source": [
    "### Przygotowanie danych\n",
    "\n",
    "Naszym pierwszym zadaniem jest przygotowanie wsadu dla modeli uczenia maszynowego. Zrobimy to przy wykorzystaniu `numpy`, `pandas` i `rasterio`, generując szybko ramkę danych z kolumnami `NDVI`, `NDWI`, `SCI` i kolumną `y`, która reprezentować będzie dane binarne: **to, czy dany piksel jest terenem zabudowanym, czy nie jest**."
   ]
  },
  {
   "cell_type": "code",
   "execution_count": 1,
   "metadata": {},
   "outputs": [],
   "source": [
    "import numpy as np\n",
    "import pandas as pd\n",
    "import rasterio as rio\n",
    "\n",
    "from sklearn.model_selection import train_test_split\n",
    "\n",
    "from bands.load import LoadBandsFromTif"
   ]
  },
  {
   "cell_type": "code",
   "execution_count": 2,
   "metadata": {},
   "outputs": [],
   "source": [
    "BINARY_DATA = './results/clc_results/binarized_clc.tif'\n",
    "NDVI_DATA = './results/ndvi.tif'\n",
    "NDWI_DATA = './results/ndwi.tif'\n",
    "SCI_DATA = './results/sci.tif'"
   ]
  },
  {
   "cell_type": "markdown",
   "metadata": {},
   "source": [
    "Teraz ułożymy wartości do ramki danych, najpierw wczytamy wszystkie dane:"
   ]
  },
  {
   "cell_type": "code",
   "execution_count": 3,
   "metadata": {},
   "outputs": [],
   "source": [
    "bin_band = LoadBandsFromTif(BINARY_DATA).get_band()\n",
    "ndv_band = LoadBandsFromTif(NDVI_DATA).get_band()\n",
    "ndw_band = LoadBandsFromTif(NDWI_DATA).get_band()\n",
    "sci_band = LoadBandsFromTif(SCI_DATA).get_band()"
   ]
  },
  {
   "cell_type": "markdown",
   "metadata": {},
   "source": [
    "Teraz utworzymy ramkę danych... najpierw wszystkie wartości:"
   ]
  },
  {
   "cell_type": "code",
   "execution_count": 4,
   "metadata": {},
   "outputs": [
    {
     "data": {
      "text/plain": [
       "(4445532, 4)"
      ]
     },
     "execution_count": 4,
     "metadata": {},
     "output_type": "execute_result"
    }
   ],
   "source": [
    "arr = np.empty(shape=(len(bin_band.flatten()), 4))\n",
    "arr.shape"
   ]
  },
  {
   "cell_type": "code",
   "execution_count": 5,
   "metadata": {},
   "outputs": [],
   "source": [
    "arr[:, 0] = bin_band.flatten()\n",
    "arr[:, 1] = ndv_band.flatten()\n",
    "arr[:, 2] = ndw_band.flatten()\n",
    "arr[:, 3] = sci_band.flatten()"
   ]
  },
  {
   "cell_type": "code",
   "execution_count": 6,
   "metadata": {},
   "outputs": [
    {
     "data": {
      "text/html": [
       "<div>\n",
       "<style scoped>\n",
       "    .dataframe tbody tr th:only-of-type {\n",
       "        vertical-align: middle;\n",
       "    }\n",
       "\n",
       "    .dataframe tbody tr th {\n",
       "        vertical-align: top;\n",
       "    }\n",
       "\n",
       "    .dataframe thead th {\n",
       "        text-align: right;\n",
       "    }\n",
       "</style>\n",
       "<table border=\"1\" class=\"dataframe\">\n",
       "  <thead>\n",
       "    <tr style=\"text-align: right;\">\n",
       "      <th></th>\n",
       "      <th>y</th>\n",
       "      <th>ndvi</th>\n",
       "      <th>ndwi</th>\n",
       "      <th>sci</th>\n",
       "    </tr>\n",
       "  </thead>\n",
       "  <tbody>\n",
       "    <tr>\n",
       "      <th>0</th>\n",
       "      <td>0.0</td>\n",
       "      <td>0.861824</td>\n",
       "      <td>-0.827907</td>\n",
       "      <td>0.827907</td>\n",
       "    </tr>\n",
       "    <tr>\n",
       "      <th>1</th>\n",
       "      <td>0.0</td>\n",
       "      <td>0.857498</td>\n",
       "      <td>-0.818329</td>\n",
       "      <td>0.818329</td>\n",
       "    </tr>\n",
       "    <tr>\n",
       "      <th>2</th>\n",
       "      <td>0.0</td>\n",
       "      <td>0.857490</td>\n",
       "      <td>-0.826433</td>\n",
       "      <td>0.826433</td>\n",
       "    </tr>\n",
       "    <tr>\n",
       "      <th>3</th>\n",
       "      <td>0.0</td>\n",
       "      <td>0.868816</td>\n",
       "      <td>-0.825994</td>\n",
       "      <td>0.825994</td>\n",
       "    </tr>\n",
       "    <tr>\n",
       "      <th>4</th>\n",
       "      <td>0.0</td>\n",
       "      <td>0.865950</td>\n",
       "      <td>-0.835684</td>\n",
       "      <td>0.835684</td>\n",
       "    </tr>\n",
       "  </tbody>\n",
       "</table>\n",
       "</div>"
      ],
      "text/plain": [
       "     y      ndvi      ndwi       sci\n",
       "0  0.0  0.861824 -0.827907  0.827907\n",
       "1  0.0  0.857498 -0.818329  0.818329\n",
       "2  0.0  0.857490 -0.826433  0.826433\n",
       "3  0.0  0.868816 -0.825994  0.825994\n",
       "4  0.0  0.865950 -0.835684  0.835684"
      ]
     },
     "execution_count": 6,
     "metadata": {},
     "output_type": "execute_result"
    }
   ],
   "source": [
    "columns = ['y', 'ndvi', 'ndwi', 'sci']\n",
    "df = pd.DataFrame(data=arr, columns=columns)\n",
    "df.head()"
   ]
  },
  {
   "cell_type": "markdown",
   "metadata": {},
   "source": [
    "Wczytamy podstawowe informacje o danych:"
   ]
  },
  {
   "cell_type": "code",
   "execution_count": 7,
   "metadata": {},
   "outputs": [
    {
     "name": "stdout",
     "output_type": "stream",
     "text": [
      "<class 'pandas.core.frame.DataFrame'>\n",
      "RangeIndex: 4445532 entries, 0 to 4445531\n",
      "Data columns (total 4 columns):\n",
      " #   Column  Dtype  \n",
      "---  ------  -----  \n",
      " 0   y       float64\n",
      " 1   ndvi    float64\n",
      " 2   ndwi    float64\n",
      " 3   sci     float64\n",
      "dtypes: float64(4)\n",
      "memory usage: 135.7 MB\n"
     ]
    }
   ],
   "source": [
    "df.info()"
   ]
  },
  {
   "cell_type": "code",
   "execution_count": 8,
   "metadata": {},
   "outputs": [
    {
     "data": {
      "text/html": [
       "<div>\n",
       "<style scoped>\n",
       "    .dataframe tbody tr th:only-of-type {\n",
       "        vertical-align: middle;\n",
       "    }\n",
       "\n",
       "    .dataframe tbody tr th {\n",
       "        vertical-align: top;\n",
       "    }\n",
       "\n",
       "    .dataframe thead th {\n",
       "        text-align: right;\n",
       "    }\n",
       "</style>\n",
       "<table border=\"1\" class=\"dataframe\">\n",
       "  <thead>\n",
       "    <tr style=\"text-align: right;\">\n",
       "      <th></th>\n",
       "      <th>count</th>\n",
       "      <th>mean</th>\n",
       "      <th>std</th>\n",
       "      <th>min</th>\n",
       "      <th>25%</th>\n",
       "      <th>50%</th>\n",
       "      <th>75%</th>\n",
       "      <th>max</th>\n",
       "    </tr>\n",
       "  </thead>\n",
       "  <tbody>\n",
       "    <tr>\n",
       "      <th>y</th>\n",
       "      <td>4445532.0</td>\n",
       "      <td>0.586137</td>\n",
       "      <td>0.492525</td>\n",
       "      <td>0.000000</td>\n",
       "      <td>0.000000</td>\n",
       "      <td>1.000000</td>\n",
       "      <td>1.000000</td>\n",
       "      <td>1.000000</td>\n",
       "    </tr>\n",
       "    <tr>\n",
       "      <th>ndvi</th>\n",
       "      <td>4445532.0</td>\n",
       "      <td>0.519922</td>\n",
       "      <td>0.254621</td>\n",
       "      <td>-0.740552</td>\n",
       "      <td>0.307663</td>\n",
       "      <td>0.571663</td>\n",
       "      <td>0.751201</td>\n",
       "      <td>1.000000</td>\n",
       "    </tr>\n",
       "    <tr>\n",
       "      <th>ndwi</th>\n",
       "      <td>4445532.0</td>\n",
       "      <td>-0.557063</td>\n",
       "      <td>0.207317</td>\n",
       "      <td>-1.000000</td>\n",
       "      <td>-0.727110</td>\n",
       "      <td>-0.611056</td>\n",
       "      <td>-0.411924</td>\n",
       "      <td>0.715823</td>\n",
       "    </tr>\n",
       "    <tr>\n",
       "      <th>sci</th>\n",
       "      <td>4445532.0</td>\n",
       "      <td>0.557063</td>\n",
       "      <td>0.207317</td>\n",
       "      <td>-0.715823</td>\n",
       "      <td>0.411924</td>\n",
       "      <td>0.611056</td>\n",
       "      <td>0.727110</td>\n",
       "      <td>1.000000</td>\n",
       "    </tr>\n",
       "  </tbody>\n",
       "</table>\n",
       "</div>"
      ],
      "text/plain": [
       "          count      mean       std       min       25%       50%       75%  \\\n",
       "y     4445532.0  0.586137  0.492525  0.000000  0.000000  1.000000  1.000000   \n",
       "ndvi  4445532.0  0.519922  0.254621 -0.740552  0.307663  0.571663  0.751201   \n",
       "ndwi  4445532.0 -0.557063  0.207317 -1.000000 -0.727110 -0.611056 -0.411924   \n",
       "sci   4445532.0  0.557063  0.207317 -0.715823  0.411924  0.611056  0.727110   \n",
       "\n",
       "           max  \n",
       "y     1.000000  \n",
       "ndvi  1.000000  \n",
       "ndwi  0.715823  \n",
       "sci   1.000000  "
      ]
     },
     "execution_count": 8,
     "metadata": {},
     "output_type": "execute_result"
    }
   ],
   "source": [
    "df.describe().T"
   ]
  },
  {
   "cell_type": "markdown",
   "metadata": {},
   "source": [
    "Dane wyglądają na prawidłowe.\n",
    "Zapiszemy dataframe do pliku csv:"
   ]
  },
  {
   "cell_type": "code",
   "execution_count": 9,
   "metadata": {},
   "outputs": [],
   "source": [
    "df.to_csv('./results/prepared_frame.csv')"
   ]
  },
  {
   "cell_type": "markdown",
   "metadata": {},
   "source": [
    "### Transformacja danych wejściowych i podział na zbiór treningowy i testowy.\n",
    "\n",
    "W tym kroku przygotowujemy dane jako wsad do modeli uczenia maszynowego. Jako że wskaźniki są już w przedziale -1 do 1, możemy tylko podzielić dane na zbiór treningowy i testowy. Wykorzystamy do tego możliwości, jakie daje pakiet `scikit-learn`."
   ]
  },
  {
   "cell_type": "code",
   "execution_count": 10,
   "metadata": {},
   "outputs": [],
   "source": [
    "x_train, x_test, y_train, y_test = train_test_split(\n",
    "    df.drop('y', axis=1),\n",
    "    df['y'],\n",
    "    random_state=14)"
   ]
  },
  {
   "cell_type": "code",
   "execution_count": 11,
   "metadata": {},
   "outputs": [
    {
     "name": "stdout",
     "output_type": "stream",
     "text": [
      "          count      mean       std       min       25%       50%       75%  \\\n",
      "ndvi  3334149.0  0.519918  0.254616 -0.740552  0.307630  0.571672  0.751152   \n",
      "ndwi  3334149.0 -0.557048  0.207348 -1.000000 -0.727063 -0.611058 -0.411840   \n",
      "sci   3334149.0  0.557048  0.207348 -0.715823  0.411840  0.611058  0.727063   \n",
      "\n",
      "           max  \n",
      "ndvi  1.000000  \n",
      "ndwi  0.715823  \n",
      "sci   1.000000  \n",
      "------------------------------------------------------------------------------\n",
      "          count      mean       std       min       25%       50%       75%  \\\n",
      "ndvi  1111383.0  0.519933  0.254637 -0.667292  0.307802  0.571625  0.751345   \n",
      "ndwi  1111383.0 -0.557110  0.207225 -1.000000 -0.727244 -0.611053 -0.412178   \n",
      "sci   1111383.0  0.557110  0.207225 -0.626313  0.412178  0.611053  0.727244   \n",
      "\n",
      "           max  \n",
      "ndvi  1.000000  \n",
      "ndwi  0.626313  \n",
      "sci   1.000000  \n"
     ]
    }
   ],
   "source": [
    "print(x_train.describe().T)\n",
    "print(\"------------------------------------------------------------------------------\")\n",
    "print(x_test.describe().T)"
   ]
  },
  {
   "cell_type": "code",
   "execution_count": 21,
   "metadata": {},
   "outputs": [
    {
     "name": "stdout",
     "output_type": "stream",
     "text": [
      "Zbiór y trening liczy 3334149 elementów.\n",
      "Zbiór y testowy liczy 1111383 elementów.\n"
     ]
    }
   ],
   "source": [
    "print(\"Zbiór y trening liczy\", y_train.count(), \"elementów.\")\n",
    "print(\"Zbiór y testowy liczy\", y_test.count(), \"elementów.\")"
   ]
  },
  {
   "cell_type": "code",
   "execution_count": null,
   "metadata": {},
   "outputs": [],
   "source": []
  }
 ],
 "metadata": {
  "kernelspec": {
   "display_name": "Python 3.8.10 64-bit",
   "language": "python",
   "name": "python3"
  },
  "language_info": {
   "codemirror_mode": {
    "name": "ipython",
    "version": 3
   },
   "file_extension": ".py",
   "mimetype": "text/x-python",
   "name": "python",
   "nbconvert_exporter": "python",
   "pygments_lexer": "ipython3",
   "version": "3.8.10"
  },
  "orig_nbformat": 4,
  "vscode": {
   "interpreter": {
    "hash": "916dbcbb3f70747c44a77c7bcd40155683ae19c65e1c03b4aa3499c5328201f1"
   }
  }
 },
 "nbformat": 4,
 "nbformat_minor": 2
}
